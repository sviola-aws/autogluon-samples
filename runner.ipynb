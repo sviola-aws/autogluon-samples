{
 "cells": [
  {
   "cell_type": "code",
   "execution_count": null,
   "id": "03da9544",
   "metadata": {
    "tags": []
   },
   "outputs": [],
   "source": [
    "import sagemaker\n",
    "import json\n",
    "\n",
    "# default configuraton dict with some default values\n",
    "\n",
    "conf_dict = {}\n",
    "conf_dict[\"ROLE\"] = sagemaker.get_execution_role()\n",
    "\n",
    "BUCKET_NAME=\"PUT_BUCKET_NAME_HERE\"\n",
    "\n",
    "# overall configuration\n",
    "conf_dict[\"REGION\"] = \"eu-central-1\"\n",
    "conf_dict[\"MODEL_PACKAGE_NAME\"] = \"XgBoostWorkshopClassification-modelsPackageGroup\"\n",
    "conf_dict[\"PIPELINE_NAME\"] = \"WORKSHOPS-AutoGluon\"\n",
    "conf_dict[\"INPUT_PATH\"] = f\"s3://{BUCKET_NAME}/Skyserver_df.csv\"\n",
    "conf_dict[\"ARTIFACTS_SAVE_PATH\"] = f\"s3://{BUCKET_NAME}/outputs\"\n",
    "conf_dict[\"MODEL_SAVE_PATH\"] = f'{conf_dict[\"ARTIFACTS_SAVE_PATH\"]}/run_1'\n",
    "\n",
    "# preprocessing step configuration\n",
    "conf_dict[\"PREPROCESSING_STEP_CONFIG\"] = {}\n",
    "conf_dict[\"PREPROCESSING_STEP_CONFIG\"][\"instance_type\"] = \"ml.m5.large\"\n",
    "conf_dict[\"PREPROCESSING_STEP_CONFIG\"][\"instance_count\"] = 1\n",
    "conf_dict[\"PREPROCESSING_STEP_CONFIG\"][\"framework_version\"] = \"1.0-1\"\n",
    "\n",
    "# model training step configuration\n",
    "conf_dict[\"MODEL_TRAINING_STEP_CONFIG\"] = {}\n",
    "conf_dict[\"MODEL_TRAINING_STEP_CONFIG\"][\"instance_type\"] = \"ml.p3.2xlarge\"\n",
    "conf_dict[\"MODEL_TRAINING_STEP_CONFIG\"][\"instance_count\"] = 1\n",
    "conf_dict[\"MODEL_TRAINING_STEP_CONFIG\"][\"python_version\"] = \"py3\"\n",
    "\n",
    "# model evaluation step configuration\n",
    "conf_dict[\"MODEL_EVALUATION_STEP_CONFIG\"] = {}\n",
    "conf_dict[\"MODEL_EVALUATION_STEP_CONFIG\"][\"instance_type\"] = \"ml.m5.large\"\n",
    "conf_dict[\"MODEL_EVALUATION_STEP_CONFIG\"][\"instance_count\"] = 1\n",
    "\n",
    "conf_dict[\"CREATE_MODEL_CONFIG\"] = {}\n",
    "conf_dict[\"CREATE_MODEL_CONFIG\"][\"instance_type\"] = \"ml.m5.large\"\n",
    "\n",
    "json_object = json.dumps(conf_dict, indent=4)\n",
    "\n",
    "# Save configuration into .json file\n",
    "with open(\"config.json\", \"w\") as outfile:\n",
    "    outfile.write(json_object)"
   ]
  },
  {
   "cell_type": "code",
   "execution_count": null,
   "id": "6d885611",
   "metadata": {
    "tags": []
   },
   "outputs": [],
   "source": [
    "from pprint import pprint\n",
    "import json\n",
    "import sagemaker\n",
    "\n",
    "from scripts.pipeline import get_pipeline\n",
    "\n",
    "role = sagemaker.get_execution_role()\n",
    "\n",
    "# Opening saved configiration file\n",
    "with open(\"config.json\", \"r\") as openfile:\n",
    "    # Reading from json file\n",
    "    config_dict = json.load(openfile)\n",
    "\n",
    "\"\"\"\n",
    "Running pipeline creation\n",
    "\n",
    "- run this cell\n",
    "\n",
    "\"\"\"\n",
    "pipeline = get_pipeline(\n",
    "    config_dict=config_dict,\n",
    ")"
   ]
  },
  {
   "cell_type": "markdown",
   "id": "a7cc3c5c",
   "metadata": {},
   "source": [
    "### 5. Pipeline execution"
   ]
  },
  {
   "cell_type": "code",
   "execution_count": null,
   "id": "9948fab3",
   "metadata": {
    "tags": []
   },
   "outputs": [],
   "source": [
    "# pipeline execution\n",
    "\n",
    "definition = json.loads(pipeline.definition())\n",
    "\n",
    "with open(\"data.json\", \"w\") as f:\n",
    "    json.dump(definition, f)\n",
    "\n",
    "pipeline.upsert(role_arn=role)\n",
    "execution = pipeline.start()"
   ]
  },
  {
   "cell_type": "markdown",
   "id": "69c07103",
   "metadata": {},
   "source": [
    "### 6. Run this cell if you want to wait for the pipeline to be created"
   ]
  },
  {
   "cell_type": "code",
   "execution_count": null,
   "id": "bfc854a2",
   "metadata": {
    "tags": []
   },
   "outputs": [],
   "source": [
    "execution.wait()"
   ]
  },
  {
   "cell_type": "code",
   "execution_count": null,
   "id": "5568b53c-5619-445e-a63f-b6907724543d",
   "metadata": {},
   "outputs": [],
   "source": []
  }
 ],
 "metadata": {
  "kernelspec": {
   "display_name": "conda_python3",
   "language": "python",
   "name": "conda_python3"
  },
  "language_info": {
   "codemirror_mode": {
    "name": "ipython",
    "version": 3
   },
   "file_extension": ".py",
   "mimetype": "text/x-python",
   "name": "python",
   "nbconvert_exporter": "python",
   "pygments_lexer": "ipython3",
   "version": "3.10.13"
  }
 },
 "nbformat": 4,
 "nbformat_minor": 5
}
